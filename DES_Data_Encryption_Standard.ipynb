{
  "cells": [
    {
      "cell_type": "markdown",
      "metadata": {
        "id": "oSDdzpwfyKBB"
      },
      "source": [
        "SHAKA ARISYA - A11.2021.13406\n",
        "Data Encryption Standard (DES)"
      ]
    },
    {
      "cell_type": "markdown",
      "metadata": {
        "id": "imbZdLlZyKBC"
      },
      "source": [
        "Inputan Plaintext dan Kunci(Key)"
      ]
    },
    {
      "cell_type": "code",
      "execution_count": 456,
      "metadata": {
        "colab": {
          "base_uri": "https://localhost:8080/"
        },
        "id": "fScXnwPCTCfu",
        "outputId": "bfb9d98a-83d2-4caf-ea01-913420708896"
      },
      "outputs": [
        {
          "output_type": "stream",
          "name": "stdout",
          "text": [
            "Masukkan plaintext (8 karakter atau 64 bits atau 8 bytes) : COMPUTER\n",
            "Masukkan kunci (16 karakter atau 64 bits atau 8 bytes) Dalam Hexadecimal : 13 34 57 79 9B BC DF F1\n",
            "Plaintext =  COMPUTER\n",
            "Key =  13 34 57 79 9B BC DF F1\n"
          ]
        }
      ],
      "source": [
        "# Prompt user to enter plaintext and key\n",
        "plainText = input(\"Masukkan plaintext (8 karakter atau 64 bits atau 8 bytes) : \")\n",
        "key = input(\"Masukkan kunci (16 karakter atau 64 bits atau 8 bytes) Dalam Hexadecimal : \")\n",
        "\n",
        "# Validate user input\n",
        "if len(plainText) != 8:\n",
        "  print(\"Plaintext harus 8 bytes!\")\n",
        "elif len(key.split()) != 8:\n",
        "  print(\"Kunci harus terdiri dari 16 karakter heksadesimal (0-9, A-F) dengan spasi. \")\n",
        "else:\n",
        "  # Get ASCII value of each character using ord() function\n",
        "  ascii_value = [ord(char) for char in plainText]\n",
        "  print(\"Plaintext = \", plainText)\n",
        "  print(\"Key = \", key)\n"
      ]
    },
    {
      "cell_type": "markdown",
      "metadata": {
        "id": "yqAPRi0VyKBD"
      },
      "source": [
        "Ubah Plaintext menjadi ASCII value"
      ]
    },
    {
      "cell_type": "code",
      "execution_count": 457,
      "metadata": {
        "colab": {
          "base_uri": "https://localhost:8080/"
        },
        "id": "sm_NHRfqyKBD",
        "outputId": "e7163f57-8226-4d6d-b746-fa3ec455e39d"
      },
      "outputs": [
        {
          "output_type": "stream",
          "name": "stdout",
          "text": [
            "C: 67\n",
            "O: 79\n",
            "M: 77\n",
            "P: 80\n",
            "U: 85\n",
            "T: 84\n",
            "E: 69\n",
            "R: 82\n"
          ]
        }
      ],
      "source": [
        "# Dapatkan value ASCII tiap char menggunakan fungsi ord()\n",
        "ascii_value = []\n",
        "\n",
        "for i in range(len(plainText)):\n",
        "    ascii_value.append(ord(plainText[i]))\n",
        "\n",
        "# Print each character of plaintext and its corresponding ASCII value\n",
        "for i in range(len(plainText)):\n",
        "  print(f\"{plainText[i]}: {ascii_value[i]}\")\n"
      ]
    },
    {
      "cell_type": "markdown",
      "metadata": {
        "id": "HUmWw1XoWh5t"
      },
      "source": [
        "Setelah mendapat hasil value ASCII konversikan ke dalam binary"
      ]
    },
    {
      "cell_type": "code",
      "execution_count": 458,
      "metadata": {
        "id": "_8Kq6jTsWT_D"
      },
      "outputs": [],
      "source": [
        "def dec2bin(num):\n",
        "  result = bin(num).replace(\"0b\", \"\")\n",
        "  if(len(result) % 4 != 0):\n",
        "    div = len(result) / 4\n",
        "    div = int(div)\n",
        "    counter = (4 * (div + 1)) - len(result)\n",
        "    for i in range(0, counter):\n",
        "      result = '0' + result\n",
        "  return result"
      ]
    },
    {
      "cell_type": "code",
      "execution_count": 459,
      "metadata": {
        "colab": {
          "base_uri": "https://localhost:8080/"
        },
        "id": "9iQGILBHXU0K",
        "outputId": "7e350d7a-6d77-482b-cb94-e265d17c3558"
      },
      "outputs": [
        {
          "output_type": "stream",
          "name": "stdout",
          "text": [
            "C: 01000011\n",
            "O: 01001111\n",
            "M: 01001101\n",
            "P: 01010000\n",
            "U: 01010101\n",
            "T: 01010100\n",
            "E: 01000101\n",
            "R: 01010010\n"
          ]
        }
      ],
      "source": [
        "ascii_binary = []\n",
        "# Convert each character of plaintext to binary and store in ascii_binary\n",
        "for i in range(len(plainText)):\n",
        "  ascii_binary.append(dec2bin(ascii_value[i]).zfill(8))\n",
        "# Combine binary strings for each character of plaintext\n",
        "binary_str = ''.join(ascii_binary)\n",
        "# Print each character of plaintext and its corresponding binary representation\n",
        "for i in range(len(plainText)):\n",
        "  print(f\"{plainText[i]}: {binary_str[i*8:(i+1)*8]}\")\n"
      ]
    },
    {
      "cell_type": "code",
      "execution_count": 460,
      "metadata": {
        "id": "bFr7jf3obKc8"
      },
      "outputs": [],
      "source": [
        "ascii_binary = \"\".join(ascii_binary)\n"
      ]
    },
    {
      "cell_type": "code",
      "execution_count": 461,
      "metadata": {
        "colab": {
          "base_uri": "https://localhost:8080/"
        },
        "id": "HAJlKCK5yKBF",
        "outputId": "80205083-dcc2-4eee-a10c-b55f9d1f690a"
      },
      "outputs": [
        {
          "output_type": "stream",
          "name": "stdout",
          "text": [
            "P =  01000011 01001111 01001101 01010000 01010101 01010100 01000101 01010010\n"
          ]
        }
      ],
      "source": [
        "formatted_ascii_binary = ' '.join([ascii_binary[i:i+8] for i in range(0, len(ascii_binary), 8)])\n",
        "print(\"P = \",formatted_ascii_binary)\n"
      ]
    },
    {
      "cell_type": "markdown",
      "metadata": {
        "id": "YFs2OBB7jCYz"
      },
      "source": [
        "**Langkah 1 : Initial Permutation**"
      ]
    },
    {
      "cell_type": "markdown",
      "metadata": {
        "id": "5YMF1ddDZwjn"
      },
      "source": [
        "Mengatur ulang posisi semua bit teks biasa menjadi matriks initial_perm(8x8)"
      ]
    },
    {
      "cell_type": "markdown",
      "metadata": {
        "id": "zN6gWoGQyKBF"
      },
      "source": [
        "Inisialisasi Table Permutation yang pertama"
      ]
    },
    {
      "cell_type": "code",
      "execution_count": 462,
      "metadata": {
        "id": "C801-f1u5Bf3"
      },
      "outputs": [],
      "source": [
        "initial_perm = [58, 50, 42, 34, 26, 18, 10, 2,\n",
        "                60, 52, 44, 36, 28, 20, 12, 4,\n",
        "                62, 54, 46, 38, 30, 22, 14, 6,\n",
        "                64, 56, 48, 40, 32, 24, 16, 8,\n",
        "                57, 49, 41, 33, 25, 17, 9, 1,\n",
        "                59, 51, 43, 35, 27, 19, 11, 3,\n",
        "                61, 53, 45, 37, 29, 21, 13, 5,\n",
        "                63, 55, 47, 39, 31, 23, 15, 7]"
      ]
    },
    {
      "cell_type": "code",
      "execution_count": 463,
      "metadata": {
        "id": "9xAGB6yLY2Bi"
      },
      "outputs": [],
      "source": [
        "def initial_permutation(plain_text, initial_perm, no_bits):\n",
        "  permutation = \"\"\n",
        "  for i in range(0, no_bits):\n",
        "    permutation += plain_text[initial_perm[i] - 1]\n",
        "  return permutation"
      ]
    },
    {
      "cell_type": "markdown",
      "metadata": {
        "id": "omdSd7vMdROu"
      },
      "source": [
        "Hasil Initial Permutasi"
      ]
    },
    {
      "cell_type": "code",
      "execution_count": 464,
      "metadata": {
        "colab": {
          "base_uri": "https://localhost:8080/",
          "height": 36
        },
        "id": "Mg8RDiXJZ_iS",
        "outputId": "5fe8b6fd-d9cf-4cb4-ab3c-eac7d7972232"
      },
      "outputs": [
        {
          "output_type": "execute_result",
          "data": {
            "text/plain": [
              "'1111111110111000011101100101011100000000000000000000011010000011'"
            ],
            "application/vnd.google.colaboratory.intrinsic+json": {
              "type": "string"
            }
          },
          "metadata": {},
          "execution_count": 464
        }
      ],
      "source": [
        "ascii_perm = initial_permutation(ascii_binary, initial_perm, 64)\n",
        "ascii_perm"
      ]
    },
    {
      "cell_type": "code",
      "execution_count": 465,
      "metadata": {
        "colab": {
          "base_uri": "https://localhost:8080/"
        },
        "id": "qfZZhq7RyKBG",
        "outputId": "72139df7-352f-4aeb-98af-93b47cda486f"
      },
      "outputs": [
        {
          "output_type": "stream",
          "name": "stdout",
          "text": [
            "P  =  01000011 01001111 01001101 01010000 01010101 01010100 01000101 01010010\n",
            "Hasil Akhir Permutasi Awal\n",
            "IP =  11111111 10111000 01110110 01010111 00000000 00000000 00000110 10000011\n"
          ]
        }
      ],
      "source": [
        "formatted_ascii_binary = ' '.join([ascii_binary[i:i+8] for i in range(0, len(ascii_binary), 8)])\n",
        "print(\"P  = \",formatted_ascii_binary)\n",
        "print(\"Hasil Akhir Permutasi Awal\")\n",
        "formatted_ascii_binary = ' '.join([ascii_perm[i:i+8] for i in range(0, len(ascii_perm), 8)])\n",
        "print(\"IP = \",formatted_ascii_binary)"
      ]
    },
    {
      "cell_type": "markdown",
      "metadata": {
        "id": "A-HBq5sOjNsC"
      },
      "source": [
        "**Langkah 2 : Pecah hasil Initial Permutasi menjadi 2 bagian yang sama panjang (32 bit)**"
      ]
    },
    {
      "cell_type": "markdown",
      "metadata": {
        "id": "bFXD6GXqgbvS"
      },
      "source": [
        "Bagi ascii_perm menjadi 2 bagian yang sama panjang (32 bit)"
      ]
    },
    {
      "cell_type": "code",
      "execution_count": 466,
      "metadata": {
        "id": "no384DhcdkJB"
      },
      "outputs": [],
      "source": [
        "half_length_plaintext = len(ascii_perm) // 2\n",
        "Lo = ascii_perm[:half_length_plaintext]\n",
        "Ro = ascii_perm[half_length_plaintext:]"
      ]
    },
    {
      "cell_type": "code",
      "execution_count": 467,
      "metadata": {
        "colab": {
          "base_uri": "https://localhost:8080/"
        },
        "id": "LiLL3n8HyKBG",
        "outputId": "9bff2bd9-c6f0-4133-c1ef-6052eebaffa4"
      },
      "outputs": [
        {
          "output_type": "stream",
          "name": "stdout",
          "text": [
            "L0 =  11111111 10111000 01110110 01010111\n",
            "R0 =  00000000 00000000 00000110 10000011\n"
          ]
        }
      ],
      "source": [
        "print(\"L0 = \", ' '.join([Lo[i:i+8] for i in range(0, len(Lo), 8)]))\n",
        "print(\"R0 = \", ' '.join([Ro[i:i+8] for i in range(0, len(Ro), 8)]))\n"
      ]
    },
    {
      "cell_type": "markdown",
      "metadata": {
        "id": "6ChoCfDShiie"
      },
      "source": [
        "BREAK - Berhenti untuk proses permutasi plaintext"
      ]
    },
    {
      "cell_type": "markdown",
      "metadata": {
        "id": "bvK6PAdzi2z3"
      },
      "source": [
        "**Langkah 3 : Pembangkitan Kunci**"
      ]
    },
    {
      "cell_type": "markdown",
      "metadata": {
        "id": "huBWtL6IjveB"
      },
      "source": [
        "Asumsikan key generator berupa bilangan hexadecimal"
      ]
    },
    {
      "cell_type": "code",
      "execution_count": 468,
      "metadata": {
        "id": "t0CV8GwMhpw_"
      },
      "outputs": [],
      "source": [
        "def hex2bin(hex_string):\n",
        "  try:\n",
        "    # decimal -> biner\n",
        "    binary_num = bin(hex_string)\n",
        "\n",
        "    # Menghilangkan awalan '0b' dan mengonversi ke bentuk 8 digit\n",
        "    binary_result = '{:08b}'.format(int(binary_num, 2))\n",
        "\n",
        "    return binary_result\n",
        "  except ValueError:\n",
        "    return \"Input bukan bilangan heksadesimal yang valid\""
      ]
    },
    {
      "cell_type": "markdown",
      "metadata": {
        "id": "cvW_G5OPsBH4"
      },
      "source": [
        "Ubah value hexadecimal -> decimal"
      ]
    },
    {
      "cell_type": "code",
      "execution_count": 469,
      "metadata": {
        "colab": {
          "base_uri": "https://localhost:8080/"
        },
        "id": "4AV-JNcTpnW9",
        "outputId": "49a2ae8c-5265-4f78-eb3a-683e2b2bbfca"
      },
      "outputs": [
        {
          "output_type": "execute_result",
          "data": {
            "text/plain": [
              "[19, 52, 87, 121, 155, 188, 223, 241]"
            ]
          },
          "metadata": {},
          "execution_count": 469
        }
      ],
      "source": [
        "key_list = [int(hex_value, 16) for hex_value in key.split()]\n",
        "key_list"
      ]
    },
    {
      "cell_type": "markdown",
      "metadata": {
        "id": "SxWtSGylr298"
      },
      "source": [
        "Ubah value decimal tersebut -> binary"
      ]
    },
    {
      "cell_type": "code",
      "execution_count": 470,
      "metadata": {
        "colab": {
          "base_uri": "https://localhost:8080/"
        },
        "id": "gAXUNrkZr6Hc",
        "outputId": "7bdc9c04-205a-417d-f147-bee44eae34fd"
      },
      "outputs": [
        {
          "output_type": "execute_result",
          "data": {
            "text/plain": [
              "['00010011',\n",
              " '00110100',\n",
              " '01010111',\n",
              " '01111001',\n",
              " '10011011',\n",
              " '10111100',\n",
              " '11011111',\n",
              " '11110001']"
            ]
          },
          "metadata": {},
          "execution_count": 470
        }
      ],
      "source": [
        "key_binary = []\n",
        "for i in range(len(key_list)):\n",
        "  key_binary.append(hex2bin(key_list[i]))\n",
        "key_binary"
      ]
    },
    {
      "cell_type": "code",
      "execution_count": 471,
      "metadata": {
        "id": "MjmWdYbNwxkv"
      },
      "outputs": [],
      "source": [
        "key_binary = \"\".join(key_binary)"
      ]
    },
    {
      "cell_type": "code",
      "execution_count": 472,
      "metadata": {
        "colab": {
          "base_uri": "https://localhost:8080/"
        },
        "id": "H1MEKBQ6yKBH",
        "outputId": "b0eebcea-cf2a-4ee4-ca40-44a904f89909"
      },
      "outputs": [
        {
          "output_type": "stream",
          "name": "stdout",
          "text": [
            "K  =  00010011 00110100 01010111 01111001 10011011 10111100 11011111 11110001\n"
          ]
        }
      ],
      "source": [
        "formatted_key_binary = ' '.join([key_binary[i:i+8] for i in range(0, len(key_binary), 8)])\n",
        "print(\"K  = \",formatted_key_binary)"
      ]
    },
    {
      "cell_type": "markdown",
      "metadata": {
        "id": "rKlDVkkwvpEB"
      },
      "source": [
        "**Table PC-1**"
      ]
    },
    {
      "cell_type": "code",
      "execution_count": 473,
      "metadata": {
        "id": "JsLeHi21vrkw"
      },
      "outputs": [],
      "source": [
        "matrix_pc_1 = [ 57, 49, 41, 33, 25, 17, 9,\n",
        "                1, 58, 50, 42, 34, 26, 18,\n",
        "                10, 2, 59, 51, 43, 35, 27,\n",
        "                19, 11, 3, 60, 52, 44, 36,\n",
        "                63, 55, 47, 39, 31, 23, 15,\n",
        "                7, 62, 54, 46, 38, 30, 22,\n",
        "                14, 6, 61, 53, 45, 37, 29,\n",
        "                21, 13, 5, 28, 20, 12, 4 ]"
      ]
    },
    {
      "cell_type": "markdown",
      "metadata": {
        "id": "uGD0jFeNwcyC"
      },
      "source": [
        "**Langkah 4 : Permutasi PC-1**"
      ]
    },
    {
      "cell_type": "code",
      "execution_count": 474,
      "metadata": {
        "id": "yAZGOMKbwh0P"
      },
      "outputs": [],
      "source": [
        "key_perm = initial_permutation(key_binary, matrix_pc_1, 56)\n"
      ]
    },
    {
      "cell_type": "code",
      "execution_count": 475,
      "metadata": {
        "colab": {
          "base_uri": "https://localhost:8080/"
        },
        "id": "RtSUQilKyKBI",
        "outputId": "0a7bca34-3776-4797-af4c-03f81d98fc4b"
      },
      "outputs": [
        {
          "output_type": "stream",
          "name": "stdout",
          "text": [
            "K   =  00010011 00110100 01010111 01111001 10011011 10111100 11011111 11110001\n",
            "K+  =  1111000 0110011 0010101 0101111 0101010 1011001 1001111 0001111\n"
          ]
        }
      ],
      "source": [
        "formatted_key_binary = ' '.join([key_binary[i:i+8] for i in range(0, len(key_binary), 8)])\n",
        "print(\"K   = \",formatted_key_binary)\n",
        "formatted_key_perm = ' '.join([key_perm[i:i+7] for i in range(0, len(key_perm), 7)])\n",
        "print(\"K+  = \",formatted_key_perm)"
      ]
    },
    {
      "cell_type": "markdown",
      "metadata": {
        "id": "4Y5h5gd1zBMq"
      },
      "source": [
        "**Langkah 5 :  Pecah hasil key_perm menjadi 2 bagian yang sama panjang (28 bit)**"
      ]
    },
    {
      "cell_type": "code",
      "execution_count": 476,
      "metadata": {
        "id": "DcHdFrhFzR97"
      },
      "outputs": [],
      "source": [
        "half_length_key = len(key_perm) // 2\n",
        "Co = key_perm[:half_length_key]\n",
        "Do = key_perm[half_length_key:]"
      ]
    },
    {
      "cell_type": "code",
      "execution_count": 477,
      "metadata": {
        "colab": {
          "base_uri": "https://localhost:8080/"
        },
        "id": "51uolDREyKBL",
        "outputId": "33eaa3d8-b014-4c91-821b-f84bde0d7c16"
      },
      "outputs": [
        {
          "output_type": "stream",
          "name": "stdout",
          "text": [
            "C0 =  1111000 0110011 0010101 0101111\n",
            "D0 =  0101010 1011001 1001111 0001111\n"
          ]
        }
      ],
      "source": [
        "print(\"C0 = \", ' '.join([Co[i:i+7] for i in range(0, len(Co), 7)]))\n",
        "print(\"D0 = \", ' '.join([Do[i:i+7] for i in range(0, len(Do), 7)]))"
      ]
    },
    {
      "cell_type": "markdown",
      "metadata": {
        "id": "gGzFCHkW0b02"
      },
      "source": [
        "**Langkah 6 :** *Wrapping* atau *Round-Shift*"
      ]
    },
    {
      "cell_type": "code",
      "execution_count": 478,
      "metadata": {
        "id": "4Cv29cgp0ott"
      },
      "outputs": [],
      "source": [
        "shift_table=[ 1, 1, 2, 2,\n",
        "              2, 2, 2, 2,\n",
        "              1, 2, 2, 2,\n",
        "              2, 2, 2, 1 ]"
      ]
    },
    {
      "cell_type": "markdown",
      "metadata": {
        "id": "zlZKOJLGcu56"
      },
      "source": [
        "**Table PC-2**"
      ]
    },
    {
      "cell_type": "code",
      "execution_count": 479,
      "metadata": {
        "id": "ujKEsW3F7KEC"
      },
      "outputs": [],
      "source": [
        "matrix_pc_2 = [ 14, 17, 11, 24, 1, 5,\n",
        "                3, 28, 15, 6, 21, 10,\n",
        "                23, 19, 12, 4, 26, 8,\n",
        "                16, 7, 27, 20, 13, 2,\n",
        "                41, 52, 31, 37, 47, 55,\n",
        "                30, 40, 51, 45, 33, 48,\n",
        "                44, 49, 39, 56, 34, 53,\n",
        "                46, 42, 50, 36, 29, 32 ]"
      ]
    },
    {
      "cell_type": "markdown",
      "metadata": {
        "id": "2MvR_0Oh3fyE"
      },
      "source": [
        "**Langkah 7 : Lakukan pergeseran Co dan Do ke kiri sesuai dengan shift table**"
      ]
    },
    {
      "cell_type": "code",
      "execution_count": 480,
      "metadata": {
        "id": "qpm2qf2O3mxl"
      },
      "outputs": [],
      "source": [
        "def shift_left(kunci,count_shift):\n",
        "  left_shift = \"\"\n",
        "  for i in range(count_shift): # Loop shift table\n",
        "    for j in range(1, len(kunci)): # Loop index dari key\n",
        "      left_shift += kunci[j]\n",
        "    left_shift += kunci[0]\n",
        "    kunci = left_shift\n",
        "    left_shift = \"\"\n",
        "  return kunci"
      ]
    },
    {
      "cell_type": "markdown",
      "metadata": {
        "id": "iqNRXeUev7eJ"
      },
      "source": [
        "**Langkah 8 : Hasil perolehan dari Cn dan Dn di permutasikan dengan table permutasi PC-2**"
      ]
    },
    {
      "cell_type": "code",
      "execution_count": 481,
      "metadata": {
        "colab": {
          "base_uri": "https://localhost:8080/"
        },
        "id": "GfRamXd94mX3",
        "outputId": "b90cdd7e-f129-40e0-d8b3-06775709d271"
      },
      "outputs": [
        {
          "output_type": "stream",
          "name": "stdout",
          "text": [
            "Pergeseran 1\n",
            "C1\t= 1110000110011001010101011111\n",
            "D1\t= 1010101011001100111100011110\n",
            "C1D1\t= 11100001100110010101010111111010101011001100111100011110\n",
            "\n",
            "Pergeseran 2\n",
            "C2\t= 1100001100110010101010111111\n",
            "D2\t= 0101010110011001111000111101\n",
            "C2D2\t= 11000011001100101010101111110101010110011001111000111101\n",
            "\n",
            "Pergeseran 3\n",
            "C3\t= 0000110011001010101011111111\n",
            "D3\t= 0101011001100111100011110101\n",
            "C3D3\t= 00001100110010101010111111110101011001100111100011110101\n",
            "\n",
            "Pergeseran 4\n",
            "C4\t= 0011001100101010101111111100\n",
            "D4\t= 0101100110011110001111010101\n",
            "C4D4\t= 00110011001010101011111111000101100110011110001111010101\n",
            "\n",
            "Pergeseran 5\n",
            "C5\t= 1100110010101010111111110000\n",
            "D5\t= 0110011001111000111101010101\n",
            "C5D5\t= 11001100101010101111111100000110011001111000111101010101\n",
            "\n",
            "Pergeseran 6\n",
            "C6\t= 0011001010101011111111000011\n",
            "D6\t= 1001100111100011110101010101\n",
            "C6D6\t= 00110010101010111111110000111001100111100011110101010101\n",
            "\n",
            "Pergeseran 7\n",
            "C7\t= 1100101010101111111100001100\n",
            "D7\t= 0110011110001111010101010110\n",
            "C7D7\t= 11001010101011111111000011000110011110001111010101010110\n",
            "\n",
            "Pergeseran 8\n",
            "C8\t= 0010101010111111110000110011\n",
            "D8\t= 1001111000111101010101011001\n",
            "C8D8\t= 00101010101111111100001100111001111000111101010101011001\n",
            "\n",
            "Pergeseran 9\n",
            "C9\t= 0101010101111111100001100110\n",
            "D9\t= 0011110001111010101010110011\n",
            "C9D9\t= 01010101011111111000011001100011110001111010101010110011\n",
            "\n",
            "Pergeseran 10\n",
            "C10\t= 0101010111111110000110011001\n",
            "D10\t= 1111000111101010101011001100\n",
            "C10D10\t= 01010101111111100001100110011111000111101010101011001100\n",
            "\n",
            "Pergeseran 11\n",
            "C11\t= 0101011111111000011001100101\n",
            "D11\t= 1100011110101010101100110011\n",
            "C11D11\t= 01010111111110000110011001011100011110101010101100110011\n",
            "\n",
            "Pergeseran 12\n",
            "C12\t= 0101111111100001100110010101\n",
            "D12\t= 0001111010101010110011001111\n",
            "C12D12\t= 01011111111000011001100101010001111010101010110011001111\n",
            "\n",
            "Pergeseran 13\n",
            "C13\t= 0111111110000110011001010101\n",
            "D13\t= 0111101010101011001100111100\n",
            "C13D13\t= 01111111100001100110010101010111101010101011001100111100\n",
            "\n",
            "Pergeseran 14\n",
            "C14\t= 1111111000011001100101010101\n",
            "D14\t= 1110101010101100110011110001\n",
            "C14D14\t= 11111110000110011001010101011110101010101100110011110001\n",
            "\n",
            "Pergeseran 15\n",
            "C15\t= 1111100001100110010101010111\n",
            "D15\t= 1010101010110011001111000111\n",
            "C15D15\t= 11111000011001100101010101111010101010110011001111000111\n",
            "\n",
            "Pergeseran 16\n",
            "C16\t= 1111000011001100101010101111\n",
            "D16\t= 0101010101100110011110001111\n",
            "C16D16\t= 11110000110011001010101011110101010101100110011110001111\n",
            "\n"
          ]
        }
      ],
      "source": [
        "# Key Transformation\n",
        "cn_shift = Co\n",
        "dn_shift = Do\n",
        "# Save key transformation\n",
        "list_combine_perm = []\n",
        "decrypt = \"\"\n",
        "for i in range(0, 16):\n",
        "  Cn = shift_left(cn_shift, shift_table[i])\n",
        "  Dn = shift_left(dn_shift, shift_table[i])\n",
        "  combine = Cn + Dn\n",
        "\n",
        "  # Permutasi kan dengan table PC-2\n",
        "  combine_perm = initial_permutation(combine, matrix_pc_2, 48)\n",
        "  list_combine_perm.append(combine_perm)\n",
        "  decrypt = list_combine_perm[::-1]\n",
        "\n",
        "  print(f\"Pergeseran {i+1}\")\n",
        "  print(\"C\" + str(i+1) + \"\\t=\", Cn)\n",
        "  print(\"D\" + str(i+1) + \"\\t=\", Dn)\n",
        "  print(\"C\" + str(i+1) + \"D\" + str(i+1) + \"\\t=\", combine)\n",
        "  print()\n",
        "\n",
        "  cn_shift = Cn\n",
        "  dn_shift = Dn"
      ]
    },
    {
      "cell_type": "markdown",
      "metadata": {
        "id": "6iJ9L7jcrmm9"
      },
      "source": [
        "Key hasil permutasi dengan table PC-2"
      ]
    },
    {
      "cell_type": "code",
      "execution_count": 482,
      "metadata": {
        "colab": {
          "base_uri": "https://localhost:8080/"
        },
        "id": "uxcZNC2FKuLs",
        "outputId": "9394d189-9143-4a22-8761-65ee9d14c3c6"
      },
      "outputs": [
        {
          "output_type": "stream",
          "name": "stdout",
          "text": [
            "K1\t= 000110 110000 001011 101111 111111 000111 000001 110010\n",
            "K2\t= 011110 011010 111011 011001 110110 111100 100111 100101\n",
            "K3\t= 010101 011111 110010 001010 010000 101100 111110 011001\n",
            "K4\t= 011100 101010 110111 010110 110110 110011 010100 011101\n",
            "K5\t= 011111 001110 110000 000111 111010 110101 001110 101000\n",
            "K6\t= 011000 111010 010100 111110 010100 000111 101100 101111\n",
            "K7\t= 111011 001000 010010 110111 111101 100001 100010 111100\n",
            "K8\t= 111101 111000 101000 111010 110000 010011 101111 111011\n",
            "K9\t= 111000 001101 101111 101011 111011 011110 011110 000001\n",
            "K10\t= 101100 011111 001101 000111 101110 100100 011001 001111\n",
            "K11\t= 001000 010101 111111 010011 110111 101101 001110 000110\n",
            "K12\t= 011101 010111 000111 110101 100101 000110 011111 101001\n",
            "K13\t= 100101 111100 010111 010001 111110 101011 101001 000001\n",
            "K14\t= 010111 110100 001110 110111 111100 101110 011100 111010\n",
            "K15\t= 101111 111001 000110 001101 001111 010011 111100 001010\n",
            "K16\t= 110010 110011 110110 001011 000011 100001 011111 110101\n"
          ]
        }
      ],
      "source": [
        "\n",
        "for i in range(len(list_combine_perm)):\n",
        "    formatted_key_perm = ' '.join([list_combine_perm[i][j:j+6] for j in range(0, len(list_combine_perm[i]), 6)])\n",
        "    print(\"K\" + str(i + 1) + \"\\t=\", formatted_key_perm)\n"
      ]
    },
    {
      "cell_type": "markdown",
      "metadata": {
        "id": "q-srh0r01FWl"
      },
      "source": [
        "Hasil permutasi plainteks sebelumnya"
      ]
    },
    {
      "cell_type": "code",
      "execution_count": 483,
      "metadata": {
        "colab": {
          "base_uri": "https://localhost:8080/"
        },
        "id": "ba1FE0VwwEgX",
        "outputId": "36ba2762-2aab-48aa-c05a-7d059356b5cf"
      },
      "outputs": [
        {
          "output_type": "stream",
          "name": "stdout",
          "text": [
            "L0 =  11111111 10111000 01110110 01010111\n",
            "R0 =  00000000 00000000 00000110 10000011\n"
          ]
        }
      ],
      "source": [
        "print(\"L0 = \", ' '.join([Lo[i:i+8] for i in range(0, len(Lo), 8)]))\n",
        "print(\"R0 = \", ' '.join([Ro[i:i+8] for i in range(0, len(Ro), 8)]))"
      ]
    },
    {
      "cell_type": "markdown",
      "metadata": {
        "id": "fwvgy6i_1ztr"
      },
      "source": [
        "**Proses Enchipering**"
      ]
    },
    {
      "cell_type": "code",
      "execution_count": 484,
      "metadata": {
        "id": "PZVDub7JGYiD"
      },
      "outputs": [],
      "source": [
        "# XOR function\n",
        "def xor(a,b):\n",
        "  # a and b should be in binary\n",
        "  ans = \"\"\n",
        "  for i in range(len(a)):\n",
        "    if(a[i] == b[i]): #Li = Ri-1\n",
        "      ans += \"0\"\n",
        "    else:\n",
        "      ans += \"1\"\n",
        "  return ans"
      ]
    },
    {
      "cell_type": "markdown",
      "metadata": {
        "id": "Y1FA5JbwSKA7"
      },
      "source": [
        "Function Konversi Binary -> Decimal"
      ]
    },
    {
      "cell_type": "code",
      "execution_count": 485,
      "metadata": {
        "id": "D3K-wmdFSQWs"
      },
      "outputs": [],
      "source": [
        "def bin2dec(msg):\n",
        "  decimal, i = 0,0\n",
        "  while(msg != 0):\n",
        "    dec = msg % 10\n",
        "    decimal += dec * pow(2, i)\n",
        "    msg = msg // 10\n",
        "    i += 1\n",
        "  return decimal"
      ]
    },
    {
      "cell_type": "markdown",
      "metadata": {
        "id": "i8gjFd6caDdV"
      },
      "source": [
        "**Inisialisasi Table Ekspansi**"
      ]
    },
    {
      "cell_type": "code",
      "execution_count": 486,
      "metadata": {
        "id": "gZMKXo7FH9cu"
      },
      "outputs": [],
      "source": [
        "# Table Ekspansi Ro (48 bit)\n",
        "expand_perm = [ 32, 1, 2, 3, 4, 5,\n",
        "                4, 5, 6, 7, 8, 9,\n",
        "                8, 9, 10, 11, 12, 13,\n",
        "                12, 13, 14, 15, 16, 17,\n",
        "                16, 17, 18, 19, 20, 21,\n",
        "                20, 21, 22, 23, 24, 25,\n",
        "                24, 25, 26, 27, 28, 29,\n",
        "                28, 29, 30, 31, 32, 1 ]"
      ]
    },
    {
      "cell_type": "markdown",
      "metadata": {
        "id": "t4sCEtgINq3B"
      },
      "source": [
        "**Inisialisasi S-Box**"
      ]
    },
    {
      "cell_type": "code",
      "execution_count": 487,
      "metadata": {
        "id": "X881tXv2NtoT"
      },
      "outputs": [],
      "source": [
        "s_box = [\n",
        "          # S-Box 1\n",
        "        [[14, 4, 13, 1, 2, 15, 11, 8, 3, 10, 6, 12, 5, 9, 0, 7],\n",
        "         [0, 15, 7, 4, 14, 2, 13, 1, 10, 6, 12, 11, 9, 5, 3, 8],\n",
        "         [4, 1, 14, 8, 13, 6, 2, 11, 15, 12, 9, 7, 3, 10, 5, 0],\n",
        "         [15, 12, 8, 2, 4, 9, 1, 7, 5, 11, 3, 14, 10, 0, 6, 13]],\n",
        "          # S-Box 2\n",
        "        [[15, 1, 8, 14, 6, 11, 3, 4, 9, 7, 2, 13, 12, 0, 5, 10],\n",
        "         [3, 13, 4, 7, 15, 2, 8, 14, 12, 0, 1, 10, 6, 9, 11, 5],\n",
        "         [0, 14, 7, 11, 10, 4, 13, 1, 5, 8, 12, 6, 9, 3, 2, 15],\n",
        "         [13, 8, 10, 1, 3, 15, 4, 2, 11, 6, 7, 12, 0, 5, 14, 9]],\n",
        "          # S-Box 3\n",
        "        [[10, 0, 9, 14, 6, 3, 15, 5, 1, 13, 12, 7, 11, 4, 2, 8],\n",
        "         [13, 7, 0, 9, 3, 4, 6, 10, 2, 8, 5, 14, 12, 11, 15, 1],\n",
        "         [13, 6, 4, 9, 8, 15, 3, 0, 11, 1, 2, 12, 5, 10, 14, 7],\n",
        "         [1, 10, 13, 0, 6, 9, 8, 7, 4, 15, 14, 3, 11, 5, 2, 12]],\n",
        "          # S-Box 4\n",
        "        [[7, 13, 14, 3, 0, 6, 9, 10, 1, 2, 8, 5, 11, 12, 4, 15],\n",
        "         [13, 8, 11, 5, 6, 15, 0, 3, 4, 7, 2, 12, 1, 10, 14, 9],\n",
        "         [10, 6, 9, 0, 12, 11, 7, 13, 15, 1, 3, 14, 5, 2, 8, 4],\n",
        "         [3, 15, 0, 6, 10, 1, 13, 8, 9, 4, 5, 11, 12, 7, 2, 14]],\n",
        "          # S-Box 5\n",
        "        [[2, 12, 4, 1, 7, 10, 11, 6, 8, 5, 3, 15, 13, 0, 14, 9],\n",
        "         [14, 11, 2, 12, 4, 7, 13, 1, 5, 0, 15, 10, 3, 9, 8, 6],\n",
        "         [4, 2, 1, 11, 10, 13, 7, 8, 15, 9, 12, 5, 6, 3, 0, 14],\n",
        "         [11, 8, 12, 7, 1, 14, 2, 13, 6, 15, 0, 9, 10, 4, 5, 3]],\n",
        "          # S-Box 6\n",
        "        [[12, 1, 10, 15, 9, 2, 6, 8, 0, 13, 3, 4, 14, 7, 5, 11],\n",
        "         [10, 15, 4, 2, 7, 12, 9, 5, 6, 1, 13, 14, 0, 11, 3, 8],\n",
        "         [9, 14, 15, 5, 2, 8, 12, 3, 7, 0, 4, 10, 1, 13, 11, 6],\n",
        "         [4, 3, 2, 12, 9, 5, 15, 10, 11, 14, 1, 7, 6, 0, 8, 13]],\n",
        "          # S-Box 7\n",
        "        [[4, 11, 2, 14, 15, 0, 8, 13, 3, 12, 9, 7, 5, 10, 6, 1],\n",
        "         [13, 0, 11, 7, 4, 9, 1, 10, 14, 3, 5, 12, 2, 15, 8, 6],\n",
        "         [1, 4, 11, 13, 12, 3, 7, 14, 10, 15, 6, 8, 0, 5, 9, 2],\n",
        "         [6, 11, 13, 8, 1, 4, 10, 7, 9, 5, 0, 15, 14, 2, 3, 12]],\n",
        "          # S-Box 8\n",
        "        [[13, 2, 8, 4, 6, 15, 11, 1, 10, 9, 3, 14, 5, 0, 12, 7],\n",
        "         [1, 15, 13, 8, 10, 3, 7, 4, 12, 5, 6, 11, 0, 14, 9, 2],\n",
        "         [7, 11, 4, 1, 9, 12, 14, 2, 0, 6, 10, 13, 15, 3, 5, 8],\n",
        "         [2, 1, 14, 7, 4, 10, 8, 13, 15, 12, 9, 0, 3, 5, 6, 11]]\n",
        "      ]"
      ]
    },
    {
      "cell_type": "code",
      "execution_count": 488,
      "metadata": {
        "id": "0gvfCvQBhKiZ"
      },
      "outputs": [],
      "source": [
        "# Permutation table\n",
        "perm_table=[16, 7, 20, 21, 29, 12, 28, 17,\n",
        "            1, 15, 23, 26, 5, 18, 31, 10,\n",
        "            2, 8, 24, 14, 32, 27, 3, 9,\n",
        "            19, 13, 30, 6, 22, 11, 4, 25]"
      ]
    },
    {
      "cell_type": "markdown",
      "source": [
        "1.  Expansi R0 dengan table Expansi\n",
        "\n",
        "expansi pada blok Ri-1 32 bit menjadi blok 48 bit"
      ],
      "metadata": {
        "id": "lyt0A5KdYZR1"
      }
    },
    {
      "cell_type": "code",
      "source": [
        "right = Ro  # Assuming Ro is some initial value\n",
        "# Start from 1 to modify ER2 to ER16\n",
        "right_expand = initial_permutation(right, expand_perm, 48)  # Assuming you have a function for initial_permutation\n",
        "formatted_right_expand = ' '.join([right_expand[j:j+6] for j in range(0, len(right_expand), 6)])\n",
        "print(\"Hasil expansi R0 terhadap Table Expansi \")\n",
        "print(\"E(R0)\"  + \"\\t=\", formatted_right_expand)\n"
      ],
      "metadata": {
        "colab": {
          "base_uri": "https://localhost:8080/"
        },
        "id": "Q_-bt2H3a5r1",
        "outputId": "efc6161b-26f0-4933-b9ff-da6b94c5920c"
      },
      "execution_count": 489,
      "outputs": [
        {
          "output_type": "stream",
          "name": "stdout",
          "text": [
            "Hasil expansi R0 terhadap Table Expansi \n",
            "E(R0)\t= 100000 000000 000000 000000 000000 001101 010000 000110\n"
          ]
        }
      ]
    },
    {
      "cell_type": "markdown",
      "source": [
        "2. Fungsi XOR dari ekspansi R0 dan Key 1 untuk menghasilkan A1"
      ],
      "metadata": {
        "id": "8Zt8j9d6hDQ-"
      }
    },
    {
      "cell_type": "code",
      "source": [
        "right_expand = initial_permutation(right, expand_perm, 48)\n",
        "A = xor(right_expand, list_combine_perm[0])\n",
        "formatted_A = ' '.join([A[i:i+6] for i in range(0, len(A), 6)])\n",
        "print(\"E(R0)\"  + \"\\t=\", formatted_right_expand)\n",
        "formatted_key_perm = ' '.join([list_combine_perm[0][j:j+6] for j in range(0, len(list_combine_perm[0]), 6)])\n",
        "print(\"K1\" + \"\\t=\", formatted_key_perm)\n",
        "print(\"____________________________________________________________________XOR\")\n",
        "print(\"A1\" + \"\\t=\", formatted_A)"
      ],
      "metadata": {
        "colab": {
          "base_uri": "https://localhost:8080/"
        },
        "id": "IAtpnyHChIm-",
        "outputId": "e09da2d6-63f7-457b-f336-591bfb114886"
      },
      "execution_count": 490,
      "outputs": [
        {
          "output_type": "stream",
          "name": "stdout",
          "text": [
            "E(R0)\t= 100000 000000 000000 000000 000000 001101 010000 000110\n",
            "K1\t= 000110 110000 001011 101111 111111 000111 000001 110010\n",
            "____________________________________________________________________XOR\n",
            "A1\t= 100110 110000 001011 101111 111111 001010 010001 110100\n"
          ]
        }
      ]
    },
    {
      "cell_type": "markdown",
      "metadata": {
        "id": "fKvvUno1lArh"
      },
      "source": [
        "3. Proses substitusi nilai dengan table S-Box (1)"
      ]
    },
    {
      "cell_type": "code",
      "source": [
        "print(\"Proses Substitusi S-BOX(1)\")\n",
        "print(\"A1\" + \"\\t=\", formatted_A)\n",
        "print(\"Bytes A1 Yang di substitusi dengan table S-BOX(1)\")\n",
        "first_byte_A = A[:6]\n",
        "formatted_first_byte_A = ' '.join([first_byte_A[i:i+6] for i in range(0, len(first_byte_A), 6)])\n",
        "print(\"A1(1)\"  + \"\\t=\", formatted_first_byte_A )\n",
        "s_box_str = \"\"\n",
        "list_s_box = []\n",
        "for j in range(0, 8):\n",
        "    row = bin2dec(int(A[j * 6] + A[j * 6 + 5]))\n",
        "    column = bin2dec(int(A[j * 6 + 1] + A[j * 6 + 2] + A[j * 6 + 3] + A[j * 6 + 4]))\n",
        "    value = s_box[j][row][column]\n",
        "    s_box_str += dec2bin(value)\n",
        "list_s_box.append(s_box_str)\n",
        "formatted_s_box = ' '.join([list_s_box[0][j:j+4] for j in range(0, len(list_s_box[0]), 4)])\n",
        "print(\"---------------------------------------------------------------------\")\n",
        "print(\"Hasil S-box substitution B1\")\n",
        "print(\"B1\" + \"\\t=\", formatted_s_box)"
      ],
      "metadata": {
        "colab": {
          "base_uri": "https://localhost:8080/"
        },
        "id": "5YeOXKuGjWmP",
        "outputId": "46d71d46-519e-400a-9550-0ec972ebf533"
      },
      "execution_count": 491,
      "outputs": [
        {
          "output_type": "stream",
          "name": "stdout",
          "text": [
            "Proses Substitusi S-BOX(1)\n",
            "A1\t= 100110 110000 001011 101111 111111 001010 010001 110100\n",
            "Bytes A1 Yang di substitusi dengan table S-BOX(1)\n",
            "A1(1)\t= 100110\n",
            "---------------------------------------------------------------------\n",
            "Hasil S-box substitution B1\n",
            "B1\t= 1000 0101 0100 1000 0011 0010 1110 1010\n"
          ]
        }
      ]
    },
    {
      "cell_type": "markdown",
      "metadata": {
        "id": "Ls67vKt4BiSF"
      },
      "source": [
        "4. Permutasikan hasil dari substitusi table S-Box Menjadi Hasil P-BOX (1)"
      ]
    },
    {
      "cell_type": "code",
      "source": [
        "p_box = []\n",
        "left = Lo\n",
        "left_t = []\n",
        "right_t = []\n",
        "p_box.append(initial_permutation(list_s_box[0], perm_table, 32))\n",
        "p_transform = p_box[0]\n",
        "left_s = right # L1 = R0\n",
        "left_t.append(left_s)\n",
        "right = xor(left, p_transform) # R1)\n",
        "right_t.append(right)\n",
        "formatted_p_box = ' '.join([p_box[0][j:j+8] for j in range(0, len(p_box[0]), 8)])\n",
        "print(\"B1\" + \"\\t=\", formatted_s_box)\n",
        "print(\"P(B1)\"  + \"\\t=\", formatted_p_box)"
      ],
      "metadata": {
        "colab": {
          "base_uri": "https://localhost:8080/"
        },
        "id": "QRMK_unhljT_",
        "outputId": "c9a7d3f3-98d7-40a9-a33c-c8ea781514e5"
      },
      "execution_count": 492,
      "outputs": [
        {
          "output_type": "stream",
          "name": "stdout",
          "text": [
            "B1\t= 1000 0101 0100 1000 0011 0010 1110 1010\n",
            "P(B1)\t= 00101000 10110011 01000100 11010001\n"
          ]
        }
      ]
    },
    {
      "cell_type": "markdown",
      "metadata": {
        "id": "X-Koy5OSBrQZ"
      },
      "source": [
        "5. Mendapatkan nilai Left (L) dan Right (R) sebanyak 16 kali putaran"
      ]
    },
    {
      "cell_type": "code",
      "source": [
        "left = Lo\n",
        "right = Ro\n",
        "left_t = []\n",
        "right_t = []\n",
        "left_s = right # L1 = R0\n",
        "left_t.append(left_s)\n",
        "right = xor(left, p_transform) # R1)\n",
        "right_t.append(right)\n",
        "left = right_t[0]\n",
        "right = xor(left_t[0], p_transform)\n",
        "left_t.append(right)\n",
        "right_t.append(left)\n",
        "left_t.append(left)\n",
        "right_t.append(right)\n",
        "print(\"P(B1)\"  + \"\\t=\", formatted_p_box)\n",
        "formatted_left_t = ' '.join([left_t[0][j:j+8] for j in range(0, len(left_t[0]), 8)])\n",
        "print(\"L1\" +  \"\\t=\", formatted_left_t)\n",
        "formatted_right_t = ' '.join([right_t[0][j:j+8] for j in range(0, len(right_t[0]), 8)])\n",
        "print(\"____________________________________________________________________XOR\")\n",
        "print(\"R1\" +  \"\\t=\", formatted_right_t )\n"
      ],
      "metadata": {
        "colab": {
          "base_uri": "https://localhost:8080/"
        },
        "id": "5fA1_vfanLdI",
        "outputId": "ee2beba5-59b7-41bf-acc4-3d1e09459bc9"
      },
      "execution_count": 493,
      "outputs": [
        {
          "output_type": "stream",
          "name": "stdout",
          "text": [
            "P(B1)\t= 00101000 10110011 01000100 11010001\n",
            "L1\t= 00000000 00000000 00000110 10000011\n",
            "____________________________________________________________________XOR\n",
            "R1\t= 11010111 00001011 00110010 10000110\n"
          ]
        }
      ]
    },
    {
      "cell_type": "markdown",
      "source": [
        "**Lakukan Proses Enchipering dengan iterasi sampai dengan putaran ke -16**"
      ],
      "metadata": {
        "id": "P3pybu65n5B5"
      }
    },
    {
      "cell_type": "code",
      "execution_count": 494,
      "metadata": {
        "colab": {
          "base_uri": "https://localhost:8080/"
        },
        "id": "_KuYiOBC1266",
        "outputId": "084c5e0c-aeb3-40ff-f720-c4bec1c3fbae"
      },
      "outputs": [
        {
          "output_type": "stream",
          "name": "stdout",
          "text": [
            "||====Enchipering 1====||\n",
            "ER1\t= 100000 000000 000000 000000 000000 001101 010000 000110\n",
            "A1\t= 100110 110000 001011 101111 111111 001010 010001 110100\n",
            "B1\t= 1000 0101 0100 1000 0011 0010 1110 1010\n",
            "PB1\t= 00101000 10110011 01000100 11010001\n",
            "L1\t= 00000000 00000000 00000110 10000011\n",
            "R1\t= 11010111 00001011 00110010 10000110\n",
            "\n",
            "||====Enchipering 2====||\n",
            "ER2\t= 011010 101110 100001 010110 100110 100101 010000 001101\n",
            "A2\t= 000100 110100 011010 001111 010000 011001 110111 101000\n",
            "B2\t= 1101 1100 0100 0011 1000 0000 1111 1001\n",
            "PB2\t= 10001011 11011001 10001100 00010011\n",
            "L2\t= 11010111 00001011 00110010 10000110\n",
            "R2\t= 10001011 11011001 10001010 10010000\n",
            "\n",
            "||====Enchipering 3====||\n",
            "ER3\t= 010001 010111 111011 110011 110001 010101 010010 100001\n",
            "A3\t= 000100 001000 001001 111001 100001 111001 101100 111000\n",
            "B3\t= 1101 0110 0011 1100 1011 0110 0111 1111\n",
            "PB3\t= 01101111 10110010 10011100 11111110\n",
            "L3\t= 10001011 11011001 10001010 10010000\n",
            "R3\t= 10111000 10111001 10101110 01111000\n",
            "\n",
            "||====Enchipering 4====||\n",
            "ER4\t= 010111 110001 010111 110011 110101 011100 001111 110001\n",
            "A4\t= 001011 011011 100000 100101 000011 101111 011011 101100\n",
            "B4\t= 0010 1001 1101 0000 1011 1010 1111 1110\n",
            "PB4\t= 00111111 00111011 01000111 10100001\n",
            "L4\t= 10111000 10111001 10101110 01111000\n",
            "R4\t= 10110100 11100010 11001101 00110001\n",
            "\n",
            "||====Enchipering 5====||\n",
            "ER5\t= 110110 101001 011100 000101 011001 011010 100110 100011\n",
            "A5\t= 101001 100111 101100 000010 100011 101111 101000 001011\n",
            "B5\t= 0100 0001 0011 1101 1000 1010 1100 0011\n",
            "PB5\t= 10010101 00110010 11011000 01000101\n",
            "L5\t= 10110100 11100010 11001101 00110001\n",
            "R5\t= 00101101 10001011 01110110 00111101\n",
            "\n",
            "||====Enchipering 6====||\n",
            "ER6\t= 100101 011011 110001 010110 101110 101100 000111 111010\n",
            "A6\t= 111101 100001 100101 101000 111010 101011 101011 010101\n",
            "B6\t= 0110 1101 1101 1100 0011 0101 0100 0110\n",
            "PB6\t= 00100100 00011011 11110011 11111000\n",
            "L6\t= 00101101 10001011 01110110 00111101\n",
            "R6\t= 10010000 11111001 00111110 11001001\n",
            "\n",
            "||====Enchipering 7====||\n",
            "ER7\t= 110010 100001 011111 110010 100111 111101 011001 010011\n",
            "A7\t= 001001 101001 001101 000101 011010 011100 111011 101111\n",
            "B7\t= 1110 0011 0110 1011 0000 0101 0010 1101\n",
            "PB7\t= 11001000 11000001 11101110 01101100\n",
            "L7\t= 10010000 11111001 00111110 11001001\n",
            "R7\t= 11100101 01001010 10011000 01010001\n",
            "\n",
            "||====Enchipering 8====||\n",
            "ER8\t= 111100 001010 101001 010101 010011 110000 001010 100011\n",
            "A8\t= 000001 110010 000001 101111 100011 100011 100101 011000\n",
            "B8\t= 0000 1000 1101 1000 1000 0011 1101 0101\n",
            "PB8\t= 00000111 00111001 00101001 01100001\n",
            "L8\t= 11100101 01001010 10011000 01010001\n",
            "R8\t= 10010111 11000000 00010111 10101000\n",
            "\n",
            "||====Enchipering 9====||\n",
            "ER9\t= 010010 101111 111000 000000 000010 101111 110101 010001\n",
            "A9\t= 101010 100010 010111 101011 111001 110001 101011 010000\n",
            "B9\t= 0110 1110 1110 0001 1010 1011 0100 1010\n",
            "PB9\t= 11011001 00111011 10100011 10010100\n",
            "L9\t= 10010111 11000000 00010111 10101000\n",
            "R9\t= 00111100 01110001 00111011 11000101\n",
            "\n",
            "||====Enchipering 10====||\n",
            "ER10\t= 100111 111000 001110 100010 100111 110111 111000 001010\n",
            "A10\t= 001011 100111 000011 100101 001001 010011 100001 000101\n",
            "B10\t= 0010 0001 0111 0000 0100 0001 0110 1101\n",
            "PB10\t= 00001100 00010101 01101110 00100100\n",
            "L10\t= 00111100 01110001 00111011 11000101\n",
            "R10\t= 10011011 11010101 01111001 10001100\n",
            "\n",
            "||====Enchipering 11====||\n",
            "ER11\t= 010011 110111 111010 101010 101111 110011 110001 011001\n",
            "A11\t= 011011 100010 000101 111001 011000 011110 111111 011111\n",
            "B11\t= 0101 1110 0000 1100 1101 1011 1100 0010\n",
            "PB11\t= 01110001 00111110 10110000 01010011\n",
            "L11\t= 10011011 11010101 01111001 10001100\n",
            "R11\t= 01001101 01001111 10001011 10010110\n",
            "\n",
            "||====Enchipering 12====||\n",
            "ER12\t= 001001 011010 101001 011111 110001 010111 110010 101100\n",
            "A12\t= 010100 001101 101110 101010 010100 010001 101101 000101\n",
            "B12\t= 0110 1000 0000 1011 0011 0110 1010 1101\n",
            "PB12\t= 10101000 01101000 10001110 11101001\n",
            "L12\t= 01001101 01001111 10001011 10010110\n",
            "R12\t= 00110011 10111101 11110111 01100101\n",
            "\n",
            "||====Enchipering 13====||\n",
            "ER13\t= 100110 100111 110111 111011 111110 101110 101100 001010\n",
            "A13\t= 000011 011011 100000 101010 000000 000101 000101 001011\n",
            "B13\t= 1111 1001 1101 1011 0010 0100 1011 0011\n",
            "PB13\t= 10000110 11001011 11001111 11001011\n",
            "L13\t= 00110011 10111101 11110111 01100101\n",
            "R13\t= 11001011 10000100 01000100 01011101\n",
            "\n",
            "||====Enchipering 14====||\n",
            "ER14\t= 111001 010111 110000 001000 001000 001000 001011 111011\n",
            "A14\t= 101110 100011 111110 111111 110100 100110 010111 000001\n",
            "B14\t= 1011 1000 0111 1110 1100 0101 1100 0001\n",
            "PB14\t= 00000101 11011101 00111010 01001111\n",
            "L14\t= 11001011 10000100 01000100 01011101\n",
            "R14\t= 00110110 01100000 11001101 00101010\n",
            "\n",
            "||====Enchipering 15====||\n",
            "ER15\t= 000110 101100 001100 000001 011001 011010 100101 010100\n",
            "A15\t= 101001 010101 001010 001100 010110 001001 011001 011110\n",
            "B15\t= 0100 0001 0011 1001 1111 0111 0010 0111\n",
            "PB15\t= 10100101 00100110 11101100 11101100\n",
            "L15\t= 00110110 01100000 11001101 00101010\n",
            "R15\t= 01101110 10100010 10101000 10110001\n",
            "\n",
            "||====Enchipering 16====||\n",
            "ER16\t= 101101 011101 010100 000101 010101 010001 010110 100010\n",
            "A16\t= 011111 101110 100010 001110 010110 110000 001001 010111\n",
            "B16\t= 1000 0001 0110 1010 1111 0111 0100 1011\n",
            "PB16\t= 00101001 11110111 01101000 11001100\n",
            "L16\t= 00011111 10010111 10100101 11100110\n",
            "R16\t= 01101110 10100010 10101000 10110001\n",
            "\n"
          ]
        }
      ],
      "source": [
        "s_box_str = \"\"\n",
        "list_s_box = []\n",
        "p_box = []\n",
        "left = Lo\n",
        "right = Ro\n",
        "left_t = []\n",
        "right_t = []\n",
        "\n",
        "for i in range(0, 16):\n",
        "  print(\"||====Enchipering \" + str(i+1)+\"====||\")\n",
        "  right_expand = initial_permutation(right, expand_perm, 48)\n",
        "  A = xor(right_expand, list_combine_perm[i])\n",
        "  right_expand = initial_permutation(right, expand_perm, 48)\n",
        "  # Separate output of ER with a space every 6 bits\n",
        "  formatted_right_expand = ' '.join([right_expand[i:i+6] for i in range(0, len(right_expand), 6)])\n",
        "  print(\"ER\" + str(i+1) + \"\\t=\", formatted_right_expand)\n",
        "  # Continue with the rest of the code\n",
        "  formatted_A = ' '.join([A[i:i+6] for i in range(0, len(A), 6)])\n",
        "  print(\"A\" + str(i+1) + \"\\t=\", formatted_A)\n",
        "  # Menghitung row dan column dari s-box\n",
        "  for j in range(0, 8):\n",
        "    row = bin2dec(int(A[j * 6] + A[j * 6 + 5]))\n",
        "    column = bin2dec(int(A[j * 6 + 1] + A[j * 6 + 2] + A[j * 6 + 3] + A[j * 6 + 4]))\n",
        "    value = s_box[j][row][column]\n",
        "    s_box_str += dec2bin(value)\n",
        "  list_s_box.append(s_box_str)\n",
        "  p_box.append(initial_permutation(list_s_box[i], perm_table, 32))#Ri = Li-1 X pB(i)\n",
        "\n",
        "  p_transform = p_box[i]\n",
        "  if i == 0:\n",
        "    left_s = right # L1 = R0\n",
        "    left_t.append(left_s)\n",
        "    right = xor(left, p_transform) # R1)\n",
        "    right_t.append(right)\n",
        "  else:\n",
        "    left = right_t[i-1]\n",
        "    right = xor(left_t[i-1], p_transform)\n",
        "\n",
        "    if i == 15:\n",
        "      left_t.append(right)\n",
        "      right_t.append(left)\n",
        "    else:\n",
        "      left_t.append(left)\n",
        "      right_t.append(right)\n",
        "  s_box_str = \"\"\n",
        "\n",
        "  formatted_s_box = ' '.join([list_s_box[i][j:j+4] for j in range(0, len(list_s_box[i]), 4)])\n",
        "  print(\"B\" + str(i+1) + \"\\t=\", formatted_s_box)\n",
        "  formatted_p_box = ' '.join([p_box[i][j:j+8] for j in range(0, len(p_box[i]), 8)])\n",
        "  print(\"PB\" + str(i+1) + \"\\t=\", formatted_p_box)\n",
        "  formatted_left_t = ' '.join([left_t[i][j:j+8] for j in range(0, len(left_t[i]), 8)])\n",
        "  print(\"L\" + str(i+1) + \"\\t=\", formatted_left_t)\n",
        "  formatted_right_t = ' '.join([right_t[i][j:j+8] for j in range(0, len(right_t[i]), 8)])\n",
        "  print(\"R\" + str(i+1) + \"\\t=\", formatted_right_t )\n",
        "  print()"
      ]
    },
    {
      "cell_type": "markdown",
      "metadata": {
        "id": "YhoYjmxZOSKV"
      },
      "source": [
        "**Permutasikan value Left (L) dan Right(R) dengan table Invers Permutasi serta proses mendapatkan cipher**"
      ]
    },
    {
      "cell_type": "code",
      "execution_count": 495,
      "metadata": {
        "id": "KHJSbQelODJz"
      },
      "outputs": [],
      "source": [
        "# Final Permutaion Table\n",
        "final_perm = [40, 8, 48, 16, 56, 24, 64, 32,\n",
        "              39, 7, 47, 15, 55, 23, 63, 31,\n",
        "              38, 6, 46, 14, 54, 22, 62, 30,\n",
        "              37, 5, 45, 13, 53, 21, 61, 29,\n",
        "              36, 4, 44, 12, 52, 20, 60, 28,\n",
        "              35, 3, 43, 11, 51, 19, 59, 27,\n",
        "              34, 2, 42, 10, 50, 18, 58, 26,\n",
        "              33, 1, 41, 9, 49, 17, 57, 25 ]"
      ]
    },
    {
      "cell_type": "code",
      "execution_count": 496,
      "metadata": {
        "colab": {
          "base_uri": "https://localhost:8080/"
        },
        "id": "EIpz4_jtORqc",
        "outputId": "ffb34bd5-1f08-4c20-b4b2-9e441f2134dc"
      },
      "outputs": [
        {
          "output_type": "stream",
          "name": "stdout",
          "text": [
            "L16 R16 =  00011111 10010111 10100101 11100110 01101110 10100010 10101000 10110001\n",
            "Cipher  =  01010110 11110001 11010101 11001000 01010010 10101111 10000001 00111111\n"
          ]
        }
      ],
      "source": [
        "plaintext_combine = left_t[15] + right_t[15]\n",
        "plaintext_combine = left_t[15] + right_t[15]\n",
        "formatted_plaintext_combine = ' '.join([plaintext_combine[i:i+8] for i in range(0, len(plaintext_combine), 8)])\n",
        "print(\"L16 R16 = \", formatted_plaintext_combine)\n",
        "cipher = \"\"\n",
        "plaintext_invers = left_t[15] + right_t[15]\n",
        "for i in range(len(plaintext_invers)):\n",
        "    cipher = initial_permutation(plaintext_invers, final_perm, 64)\n",
        "cipher\n",
        "formatted_plaintext_invers = ' '.join([cipher[i:i+8] for i in range(0, len(cipher), 8)])\n",
        "print(\"Cipher  = \", formatted_plaintext_invers)"
      ]
    },
    {
      "cell_type": "markdown",
      "metadata": {
        "id": "P-27kd0XgMx7"
      },
      "source": [
        "**Decrypt Text**"
      ]
    },
    {
      "cell_type": "code",
      "execution_count": 497,
      "metadata": {
        "colab": {
          "base_uri": "https://localhost:8080/"
        },
        "id": "b4_KcR2CgQir",
        "outputId": "cf45bdaf-8e2a-414f-8106-ea7e3852b796"
      },
      "outputs": [
        {
          "output_type": "stream",
          "name": "stdout",
          "text": [
            "['110010110011110110001011000011100001011111110101', '101111111001000110001101001111010011111100001010', '010111110100001110110111111100101110011100111010', '100101111100010111010001111110101011101001000001', '011101010111000111110101100101000110011111101001', '001000010101111111010011110111101101001110000110', '101100011111001101000111101110100100011001001111', '111000001101101111101011111011011110011110000001', '111101111000101000111010110000010011101111111011', '111011001000010010110111111101100001100010111100', '011000111010010100111110010100000111101100101111', '011111001110110000000111111010110101001110101000', '011100101010110111010110110110110011010100011101', '010101011111110010001010010000101100111110011001', '011110011010111011011001110110111100100111100101', '000110110000001011101111111111000111000001110010']\n"
          ]
        }
      ],
      "source": [
        "print(decrypt)"
      ]
    },
    {
      "cell_type": "code",
      "execution_count": 498,
      "metadata": {
        "colab": {
          "base_uri": "https://localhost:8080/"
        },
        "id": "KvGJPujolcVX",
        "outputId": "82c9833f-258b-473b-97a4-ea7034ceb137"
      },
      "outputs": [
        {
          "output_type": "stream",
          "name": "stdout",
          "text": [
            "K1\t= 110010110011110110001011000011100001011111110101\n",
            "K2\t= 101111111001000110001101001111010011111100001010\n",
            "K3\t= 010111110100001110110111111100101110011100111010\n",
            "K4\t= 100101111100010111010001111110101011101001000001\n",
            "K5\t= 011101010111000111110101100101000110011111101001\n",
            "K6\t= 001000010101111111010011110111101101001110000110\n",
            "K7\t= 101100011111001101000111101110100100011001001111\n",
            "K8\t= 111000001101101111101011111011011110011110000001\n",
            "K9\t= 111101111000101000111010110000010011101111111011\n",
            "K10\t= 111011001000010010110111111101100001100010111100\n",
            "K11\t= 011000111010010100111110010100000111101100101111\n",
            "K12\t= 011111001110110000000111111010110101001110101000\n",
            "K13\t= 011100101010110111010110110110110011010100011101\n",
            "K14\t= 010101011111110010001010010000101100111110011001\n",
            "K15\t= 011110011010111011011001110110111100100111100101\n",
            "K16\t= 000110110000001011101111111111000111000001110010\n"
          ]
        }
      ],
      "source": [
        "for i in range(len(decrypt)):\n",
        "  print(\"K\" + str(i + 1) + \"\\t=\", decrypt[i])"
      ]
    },
    {
      "cell_type": "markdown",
      "metadata": {
        "id": "l0jxSSSUkoVU"
      },
      "source": [
        "**Proses Dechipering**"
      ]
    },
    {
      "cell_type": "code",
      "execution_count": 499,
      "metadata": {
        "colab": {
          "base_uri": "https://localhost:8080/"
        },
        "id": "9kZ3wifDkWzV",
        "outputId": "2b8ab49b-63a5-49b1-af8c-7b8d6db94573"
      },
      "outputs": [
        {
          "output_type": "stream",
          "name": "stdout",
          "text": [
            "L1\t= 01101110101000101010100010110001\n",
            "R1\t= 00110110011000001100110100101010\n",
            "\n",
            "L2\t= 00110110011000001100110100101010\n",
            "R2\t= 11001011100001000100010001011101\n",
            "\n",
            "L3\t= 11001011100001000100010001011101\n",
            "R3\t= 00110011101111011111011101100101\n",
            "\n",
            "L4\t= 00110011101111011111011101100101\n",
            "R4\t= 01001101010011111000101110010110\n",
            "\n",
            "L5\t= 01001101010011111000101110010110\n",
            "R5\t= 10011011110101010111100110001100\n",
            "\n",
            "L6\t= 10011011110101010111100110001100\n",
            "R6\t= 00111100011100010011101111000101\n",
            "\n",
            "L7\t= 00111100011100010011101111000101\n",
            "R7\t= 10010111110000000001011110101000\n",
            "\n",
            "L8\t= 10010111110000000001011110101000\n",
            "R8\t= 11100101010010101001100001010001\n",
            "\n",
            "L9\t= 11100101010010101001100001010001\n",
            "R9\t= 10010000111110010011111011001001\n",
            "\n",
            "L10\t= 10010000111110010011111011001001\n",
            "R10\t= 00101101100010110111011000111101\n",
            "\n",
            "L11\t= 00101101100010110111011000111101\n",
            "R11\t= 10110100111000101100110100110001\n",
            "\n",
            "L12\t= 10110100111000101100110100110001\n",
            "R12\t= 10111000101110011010111001111000\n",
            "\n",
            "L13\t= 10111000101110011010111001111000\n",
            "R13\t= 10001011110110011000101010010000\n",
            "\n",
            "L14\t= 10001011110110011000101010010000\n",
            "R14\t= 11010111000010110011001010000110\n",
            "\n",
            "L15\t= 11010111000010110011001010000110\n",
            "R15\t= 00000000000000000000011010000011\n",
            "\n",
            "L16\t= 11111111101110000111011001010111\n",
            "R16\t= 00000000000000000000011010000011\n",
            "\n"
          ]
        }
      ],
      "source": [
        "s_box_str = \"\"\n",
        "list_s_box = []\n",
        "p_box = []\n",
        "left = left_t[15]\n",
        "right = right_t[15]\n",
        "left_t = []\n",
        "right_t = []\n",
        "\n",
        "for i in range(0, 16):\n",
        "  right_expand = initial_permutation(right, expand_perm, 48)\n",
        "  A = xor(right_expand, decrypt[i])\n",
        "\n",
        "  # Menghitung row dan column dari s-box\n",
        "  for j in range(0, 8):\n",
        "    row = bin2dec(int(A[j * 6] + A[j * 6 + 5]))\n",
        "    column = bin2dec(int(A[j * 6 + 1] + A[j * 6 + 2] + A[j * 6 + 3] + A[j * 6 + 4]))\n",
        "    value = s_box[j][row][column]\n",
        "    s_box_str += dec2bin(value)\n",
        "  list_s_box.append(s_box_str)\n",
        "  p_box.append(initial_permutation(list_s_box[i], perm_table, 32))\n",
        "  p_transform = p_box[i]\n",
        "  if i == 0:\n",
        "    left_s = right # L1 = R0\n",
        "    left_t.append(left_s)\n",
        "\n",
        "    right = xor(left, p_transform) # R1)\n",
        "    right_t.append(right)\n",
        "  else:\n",
        "    left = right_t[i-1]\n",
        "    right = xor(left_t[i-1], p_transform)\n",
        "\n",
        "    if i == 15:\n",
        "      left_t.append(right)\n",
        "      right_t.append(left)\n",
        "    else:\n",
        "      left_t.append(left)\n",
        "      right_t.append(right)\n",
        "  s_box_str = \"\"\n",
        "  print(\"L\" + str(i+1) + \"\\t=\", left_t[i])\n",
        "  print(\"R\" + str(i+1) + \"\\t=\", right_t[i])\n",
        "  print()"
      ]
    },
    {
      "cell_type": "code",
      "execution_count": 500,
      "metadata": {
        "colab": {
          "base_uri": "https://localhost:8080/",
          "height": 36
        },
        "id": "w7suwt1Nn5XX",
        "outputId": "dfca5003-ff4c-4126-e582-38d41137cec9"
      },
      "outputs": [
        {
          "output_type": "execute_result",
          "data": {
            "text/plain": [
              "'0100001101001111010011010101000001010101010101000100010101010010'"
            ],
            "application/vnd.google.colaboratory.intrinsic+json": {
              "type": "string"
            }
          },
          "metadata": {},
          "execution_count": 500
        }
      ],
      "source": [
        "decipher = \"\"\n",
        "plaintext_invers = left_t[15] + right_t[15]\n",
        "for i in range(len(plaintext_invers)):\n",
        "  decipher = initial_permutation(plaintext_invers, final_perm, 64)\n",
        "decipher"
      ]
    },
    {
      "cell_type": "markdown",
      "metadata": {
        "id": "gKjBi0yHrMj6"
      },
      "source": [
        "Konversi bilangan Biner -> Teks"
      ]
    },
    {
      "cell_type": "code",
      "execution_count": 501,
      "metadata": {
        "colab": {
          "base_uri": "https://localhost:8080/"
        },
        "id": "pj2HliN2qAwQ",
        "outputId": "39d8d409-ec6a-4f2b-863b-a39e5b7259f7"
      },
      "outputs": [
        {
          "output_type": "stream",
          "name": "stdout",
          "text": [
            "Hasil decrypt teks :  COMPUTER\n"
          ]
        }
      ],
      "source": [
        "partitions_bits = 8 # Menyusun bilangan biner dalam potongan-potongan 8 bit\n",
        "binary_bits = [decipher[i:i + partitions_bits] for i in range(0, len(decipher), partitions_bits)]\n",
        "decimal_characters = [int(partitions, 2) for partitions in binary_bits]\n",
        "\n",
        "# Mengonversi bilangan bulat -> teks\n",
        "text = ''.join(chr(decimal) for decimal in decimal_characters)\n",
        "\n",
        "print(\"Hasil decrypt teks : \", text)"
      ]
    }
  ],
  "metadata": {
    "colab": {
      "provenance": []
    },
    "kernelspec": {
      "display_name": "Python 3",
      "name": "python3"
    },
    "language_info": {
      "codemirror_mode": {
        "name": "ipython",
        "version": 3
      },
      "file_extension": ".py",
      "mimetype": "text/x-python",
      "name": "python",
      "nbconvert_exporter": "python",
      "pygments_lexer": "ipython3",
      "version": "3.10.11"
    }
  },
  "nbformat": 4,
  "nbformat_minor": 0
}